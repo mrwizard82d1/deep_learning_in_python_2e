{
 "cells": [
  {
   "cell_type": "markdown",
   "id": "e6955641-5f40-4548-9253-1a129877c111",
   "metadata": {},
   "source": [
    "# 00 - Pytorch Tensor Experiments from `torch.Tensor` docs"
   ]
  },
  {
   "cell_type": "code",
   "id": "30bfbafd-2f37-4529-9bed-78be3c546deb",
   "metadata": {},
   "source": [
    "import torch\n",
    "\n",
    "import numpy as np"
   ],
   "outputs": [],
   "execution_count": null
  },
  {
   "cell_type": "markdown",
   "id": "a7104ac8",
   "metadata": {},
   "source": [
    "## Data Types"
   ]
  },
  {
   "cell_type": "markdown",
   "id": "baff3921",
   "metadata": {},
   "source": [
    "By default, a tensor has `dtype=tensor.float32`. "
   ]
  },
  {
   "cell_type": "code",
   "id": "0b7149bd-8f4b-484f-a433-6696be53d8e7",
   "metadata": {},
   "source": [
    "a_default_tensor = torch.Tensor()"
   ],
   "outputs": [],
   "execution_count": null
  },
  {
   "cell_type": "code",
   "id": "e6c45d89-d1f5-47f9-969e-83893b3ac7b9",
   "metadata": {},
   "source": [
    "a_default_tensor.dtype"
   ],
   "outputs": [],
   "execution_count": null
  },
  {
   "cell_type": "markdown",
   "id": "0e4ba132",
   "metadata": {},
   "source": [
    "Other `dtypes` must explicitly supply values in addition to the `dtype` argument."
   ]
  },
  {
   "cell_type": "code",
   "id": "65f7b74d-32dd-4093-87ca-9425718e94d3",
   "metadata": {},
   "source": [
    "# Torch int64 type\n",
    "torch.rand(size=(2, 3, 5), dtype=torch.double).dtype"
   ],
   "outputs": [],
   "execution_count": null
  },
  {
   "cell_type": "code",
   "id": "e8589016",
   "metadata": {},
   "source": [
    "torch.ones(size=(1, 1, 2), dtype=torch.half).dtype  ## Half or 16-bit floating pint precision"
   ],
   "outputs": [],
   "execution_count": null
  },
  {
   "cell_type": "code",
   "id": "1084bc67",
   "metadata": {},
   "source": [
    "torch.zeros(size=(3, 5), dtype=torch.complex128).dtype  ## \"long complex\" type"
   ],
   "outputs": [],
   "execution_count": null
  },
  {
   "cell_type": "code",
   "id": "aff2b193",
   "metadata": {},
   "source": [
    "torch.randint(size=(2, 3), high=17, dtype=torch.int8).dtype  ## 8-bit integers"
   ],
   "outputs": [],
   "execution_count": null
  },
  {
   "cell_type": "code",
   "id": "3347ac0c",
   "metadata": {},
   "source": [
    "torch.randint(size=(1, 1), high=7, dtype=torch.long).dtype  ## 64-bit integers"
   ],
   "outputs": [],
   "execution_count": null
  },
  {
   "cell_type": "markdown",
   "id": "9fc41648",
   "metadata": {},
   "source": [
    "## Initializing and basic operators"
   ]
  },
  {
   "cell_type": "code",
   "id": "664b7204",
   "metadata": {},
   "source": [
    "torch.Tensor([[1., -1.], [1., -1.]])  ## Initialize inline"
   ],
   "outputs": [],
   "execution_count": null
  },
  {
   "cell_type": "code",
   "id": "ac7804ca",
   "metadata": {},
   "source": [
    "torch.Tensor(np.array([[1, 2, 3], [4, 5, 6]]))  ## Initialize from a `numpy` `array``"
   ],
   "outputs": [],
   "execution_count": null
  },
  {
   "cell_type": "code",
   "id": "41f402f4",
   "metadata": {},
   "source": [
    "# One can create tensors with a specific `dtype` ...\n",
    "torch.zeros([2, 4], dtype=torch.int32)"
   ],
   "outputs": [],
   "execution_count": null
  },
  {
   "cell_type": "code",
   "id": "c1e0a010",
   "metadata": {},
   "source": [
    "# ... or a specific 'device'. (This usage is conditional. If running on an M1 or higher Mac, \n",
    "# use the GPI installed in the Mac; otherwise, use the CPU.)\n",
    "torch.ones([2, 4], device=torch.device('mps' if torch.backends.mps.is_available() else 'cpu'))"
   ],
   "outputs": [],
   "execution_count": null
  },
  {
   "cell_type": "markdown",
   "id": "0e32de51",
   "metadata": {},
   "source": [
    "The device, 'mpu', requests the Mac M1 GPU. One could also specify a specific Mac M1 GPU like `mpu:7'\n",
    "(the seventh GPU)."
   ]
  },
  {
   "cell_type": "code",
   "id": "4bf1736f",
   "metadata": {},
   "source": [
    "# The contents of a tensor can be accessed and modified using Python's indexing and\n",
    "# slicing notation.\n",
    "x = torch.Tensor([[1, 2, 3], [4, 5, 6]])\n",
    "x[1][2]"
   ],
   "outputs": [],
   "execution_count": null
  },
  {
   "cell_type": "code",
   "id": "922c8530",
   "metadata": {},
   "source": [
    "x[0][1] = 8\n",
    "x"
   ],
   "outputs": [],
   "execution_count": null
  },
  {
   "metadata": {},
   "cell_type": "code",
   "source": [
    "# Use `torch.Tensor.item` to access a specific item in a tensor\n",
    "x = torch.Tensor([[1]])\n",
    "x"
   ],
   "id": "a3c4a1eacae09f6b",
   "outputs": [],
   "execution_count": null
  },
  {
   "metadata": {},
   "cell_type": "code",
   "source": "x.item()",
   "id": "666edf88db442c51",
   "outputs": [],
   "execution_count": null
  },
  {
   "metadata": {},
   "cell_type": "code",
   "source": [
    "x = torch.Tensor([[2.5]])\n",
    "x"
   ],
   "id": "bac6b4a05a270c8d",
   "outputs": [],
   "execution_count": null
  },
  {
   "metadata": {},
   "cell_type": "code",
   "source": "x.item()",
   "id": "8ef15bc020e8c249",
   "outputs": [],
   "execution_count": null
  },
  {
   "metadata": {},
   "cell_type": "code",
   "source": [
    "# A tensor can be created using the parameter `requires_grad=True` \n",
    "# so that `torch.autograd` records operations on them for\n",
    "# automatic differentiation.\n",
    "x = torch.tensor([[1., -1.], [1., 1.]], requires_grad=True)\n",
    "x_squared = x.pow(2)\n",
    "x_squared"
   ],
   "id": "85eaace585bc1eb1",
   "outputs": [],
   "execution_count": null
  },
  {
   "metadata": {},
   "cell_type": "code",
   "source": [
    "out = x.pow(2).sum()\n",
    "out"
   ],
   "id": "47c8b349f365b334",
   "outputs": [],
   "execution_count": null
  },
  {
   "metadata": {},
   "cell_type": "markdown",
   "source": [
    "Note that the calls in this cell assume that `x.pow(2).sum()` was called \n",
    "**immediately** before running the next cell. If one attempts to run the\n",
    "next cell without running the previous cell, a `RuntimeError` will result."
   ],
   "id": "6e278015e26dcb32"
  },
  {
   "metadata": {},
   "cell_type": "code",
   "source": [
    "out.backward()\n",
    "x.grad"
   ],
   "id": "42943cf08cbe2510",
   "outputs": [],
   "execution_count": null
  },
  {
   "metadata": {},
   "cell_type": "code",
   "source": "",
   "id": "8182225f416b8c21",
   "outputs": [],
   "execution_count": null
  }
 ],
 "metadata": {
  "kernelspec": {
   "display_name": "Python 3 (ipykernel)",
   "language": "python",
   "name": "python3"
  },
  "language_info": {
   "codemirror_mode": {
    "name": "ipython",
    "version": 3
   },
   "file_extension": ".py",
   "mimetype": "text/x-python",
   "name": "python",
   "nbconvert_exporter": "python",
   "pygments_lexer": "ipython3",
   "version": "3.12.2"
  }
 },
 "nbformat": 4,
 "nbformat_minor": 5
}
