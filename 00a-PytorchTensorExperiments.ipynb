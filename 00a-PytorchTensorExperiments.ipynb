{
 "cells": [
  {
   "cell_type": "markdown",
   "id": "e6955641-5f40-4548-9253-1a129877c111",
   "metadata": {},
   "source": [
    "# 00 - Pytorch Tensor Experiments from `torch.Tensor` docs"
   ]
  },
  {
   "cell_type": "code",
   "execution_count": null,
   "id": "30bfbafd-2f37-4529-9bed-78be3c546deb",
   "metadata": {},
   "outputs": [],
   "source": [
    "import torch\n",
    "\n",
    "import numpy as np"
   ]
  },
  {
   "cell_type": "markdown",
   "id": "a7104ac8",
   "metadata": {},
   "source": [
    "## Data Types"
   ]
  },
  {
   "cell_type": "markdown",
   "id": "baff3921",
   "metadata": {},
   "source": [
    "By default, a tensor has `dtype=tensor.float32`. "
   ]
  },
  {
   "cell_type": "code",
   "execution_count": null,
   "id": "0b7149bd-8f4b-484f-a433-6696be53d8e7",
   "metadata": {},
   "outputs": [],
   "source": [
    "a_default_tensor = torch.Tensor()"
   ]
  },
  {
   "cell_type": "code",
   "execution_count": null,
   "id": "e6c45d89-d1f5-47f9-969e-83893b3ac7b9",
   "metadata": {},
   "outputs": [],
   "source": [
    "a_default_tensor.dtype"
   ]
  },
  {
   "cell_type": "markdown",
   "id": "0e4ba132",
   "metadata": {},
   "source": [
    "Other `dtypes` must explicitly supply values in addition to the `dtype` argument."
   ]
  },
  {
   "cell_type": "code",
   "execution_count": null,
   "id": "65f7b74d-32dd-4093-87ca-9425718e94d3",
   "metadata": {},
   "outputs": [],
   "source": [
    "# Torch int64 type\n",
    "torch.rand(size=(2, 3, 5), dtype=torch.double).dtype"
   ]
  },
  {
   "cell_type": "code",
   "execution_count": null,
   "id": "e8589016",
   "metadata": {},
   "outputs": [],
   "source": [
    "torch.ones(size=(1, 1, 2), dtype=torch.half).dtype  ## Half or 16-bit floating pint precision"
   ]
  },
  {
   "cell_type": "code",
   "execution_count": null,
   "id": "1084bc67",
   "metadata": {},
   "outputs": [],
   "source": [
    "torch.zeros(size=(3, 5), dtype=torch.complex128).dtype  ## \"long complex\" type"
   ]
  },
  {
   "cell_type": "code",
   "execution_count": null,
   "id": "aff2b193",
   "metadata": {},
   "outputs": [],
   "source": [
    "torch.randint(size=(2, 3), high=17, dtype=torch.int8).dtype  ## 8-bit integers"
   ]
  },
  {
   "cell_type": "code",
   "execution_count": null,
   "id": "3347ac0c",
   "metadata": {},
   "outputs": [],
   "source": [
    "torch.randint(size=(1, 1), high=7, dtype=torch.long).dtype  ## 64-bit integers"
   ]
  },
  {
   "cell_type": "markdown",
   "id": "9fc41648",
   "metadata": {},
   "source": [
    "## Initializing and basic operators"
   ]
  },
  {
   "cell_type": "code",
   "execution_count": null,
   "id": "664b7204",
   "metadata": {},
   "outputs": [],
   "source": [
    "torch.Tensor([[1., -1.], [1., -1.]])  ## Initialize inline"
   ]
  },
  {
   "cell_type": "code",
   "execution_count": null,
   "id": "ac7804ca",
   "metadata": {},
   "outputs": [],
   "source": [
    "torch.Tensor(np.array([[1, 2, 3], [4, 5, 6]]))  ## Initialize from a `numpy` `array``"
   ]
  },
  {
   "cell_type": "code",
   "execution_count": null,
   "id": "3ef2e583",
   "metadata": {},
   "outputs": [],
   "source": [
    "Out[9].dtype, Out[10].dtype\n"
   ]
  },
  {
   "cell_type": "code",
   "execution_count": null,
   "id": "41f402f4",
   "metadata": {},
   "outputs": [],
   "source": [
    "# One can create tensors with a specifaic `dtype` ...\n",
    "torch.zeros([2, 4], dtype=torch.int32)"
   ]
  },
  {
   "cell_type": "code",
   "execution_count": null,
   "id": "c1e0a010",
   "metadata": {},
   "outputs": [],
   "source": [
    "# ... or a specific 'device' (if available; if not use the CPU)\n",
    "torch.ones([2, 4], device=torch.device('mps' if torch.backends.mps.is_available() else 'cpu'))"
   ]
  },
  {
   "cell_type": "markdown",
   "id": "0e32de51",
   "metadata": {},
   "source": [
    "The device, 'mpu', requests the Mac M1 GPU. One could also specify a specific Mac M1 GPU like `mpu:7'\n",
    "(the seventh GPU)."
   ]
  },
  {
   "cell_type": "code",
   "execution_count": null,
   "id": "4bf1736f",
   "metadata": {},
   "outputs": [],
   "source": [
    "# The contents of a tensol can be accessed and modified using Python's indexing and\n",
    "# slicing notation.\n",
    "x = tensor.Tensor([[1, 2, 3], [4, 5, 6]])"
   ]
  },
  {
   "cell_type": "code",
   "execution_count": null,
   "id": "922c8530",
   "metadata": {},
   "outputs": [],
   "source": []
  }
 ],
 "metadata": {
  "kernelspec": {
   "display_name": "Python 3 (ipykernel)",
   "language": "python",
   "name": "python3"
  },
  "language_info": {
   "codemirror_mode": {
    "name": "ipython",
    "version": 3
   },
   "file_extension": ".py",
   "mimetype": "text/x-python",
   "name": "python",
   "nbconvert_exporter": "python",
   "pygments_lexer": "ipython3",
   "version": "3.12.2"
  }
 },
 "nbformat": 4,
 "nbformat_minor": 5
}
