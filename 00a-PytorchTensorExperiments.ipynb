{
 "cells": [
  {
   "cell_type": "markdown",
   "id": "e6955641-5f40-4548-9253-1a129877c111",
   "metadata": {},
   "source": [
    "# 00 - Pytorch Tensor Experiments from `torch.Tensor` docs"
   ]
  },
  {
   "cell_type": "code",
   "execution_count": null,
   "id": "30bfbafd-2f37-4529-9bed-78be3c546deb",
   "metadata": {},
   "outputs": [],
   "source": [
    "import torch"
   ]
  },
  {
   "cell_type": "markdown",
   "id": "a7104ac8",
   "metadata": {},
   "source": [
    "## Data Types"
   ]
  },
  {
   "cell_type": "markdown",
   "id": "baff3921",
   "metadata": {},
   "source": [
    "By default, a tensor has `dtype=tensor.float32`. "
   ]
  },
  {
   "cell_type": "code",
   "execution_count": null,
   "id": "0b7149bd-8f4b-484f-a433-6696be53d8e7",
   "metadata": {},
   "outputs": [],
   "source": [
    "a_default_tensor = torch.Tensor()"
   ]
  },
  {
   "cell_type": "code",
   "execution_count": null,
   "id": "e6c45d89-d1f5-47f9-969e-83893b3ac7b9",
   "metadata": {},
   "outputs": [],
   "source": [
    "a_default_tensor.dtype"
   ]
  },
  {
   "cell_type": "markdown",
   "id": "0e4ba132",
   "metadata": {},
   "source": [
    "Other `dtypes` must explicitly supply values in addition to the `dtype` argument."
   ]
  },
  {
   "cell_type": "code",
   "execution_count": null,
   "id": "65f7b74d-32dd-4093-87ca-9425718e94d3",
   "metadata": {},
   "outputs": [],
   "source": [
    "# Torch int64 type\n",
    "torch.rand(size=(2, 3, 5), dtype=torch.double).dtype"
   ]
  },
  {
   "cell_type": "code",
   "execution_count": null,
   "id": "e8589016",
   "metadata": {},
   "outputs": [],
   "source": [
    "torch.ones(size=(1, 1, 2), dtype=torch.half).dtype  ## Half or 16-bit floating pint precision"
   ]
  },
  {
   "cell_type": "code",
   "execution_count": null,
   "id": "1084bc67",
   "metadata": {},
   "outputs": [],
   "source": [
    "torch.zeros(size=(3, 5), dtype=torch.complex128).dtype  ## \"long complex\" type"
   ]
  },
  {
   "cell_type": "code",
   "execution_count": null,
   "id": "aff2b193",
   "metadata": {},
   "outputs": [],
   "source": [
    "torch.randint(size=(2, 3), high=17, dtype=torch.int8).dtype  ## 8-bit integers"
   ]
  },
  {
   "cell_type": "code",
   "execution_count": null,
   "id": "3347ac0c",
   "metadata": {},
   "outputs": [],
   "source": [
    "torch.randint(size=(1, 1), high=7, dtype=torch.long).dtype  ## 64-bit integers"
   ]
  },
  {
   "cell_type": "code",
   "execution_count": null,
   "id": "664b7204",
   "metadata": {},
   "outputs": [],
   "source": []
  }
 ],
 "metadata": {
  "kernelspec": {
   "display_name": "Python 3 (ipykernel)",
   "language": "python",
   "name": "python3"
  },
  "language_info": {
   "codemirror_mode": {
    "name": "ipython",
    "version": 3
   },
   "file_extension": ".py",
   "mimetype": "text/x-python",
   "name": "python",
   "nbconvert_exporter": "python",
   "pygments_lexer": "ipython3",
   "version": "3.12.2"
  }
 },
 "nbformat": 4,
 "nbformat_minor": 5
}
