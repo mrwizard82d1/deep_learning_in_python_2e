{
 "cells": [
  {
   "cell_type": "markdown",
   "id": "e6955641-5f40-4548-9253-1a129877c111",
   "metadata": {},
   "source": [
    "# 00 - Pytorch Fundamentals"
   ]
  },
  {
   "cell_type": "markdown",
   "id": "6a7b442d-1ed6-4edd-8a84-61c2ced345da",
   "metadata": {},
   "source": [
    "Almost all notebooks will begin with importing `torch`"
   ]
  },
  {
   "cell_type": "code",
   "execution_count": null,
   "id": "30bfbafd-2f37-4529-9bed-78be3c546deb",
   "metadata": {},
   "outputs": [],
   "source": [
    "import torch"
   ]
  },
  {
   "cell_type": "markdown",
   "id": "a4988544-82ae-4b4a-a9e6-e30b9f5c466a",
   "metadata": {},
   "source": [
    "To ensure we have an appropriate environment, let's print the `torch` version"
   ]
  },
  {
   "cell_type": "code",
   "execution_count": null,
   "id": "c199d35e-52fc-4548-9699-83bbe68e7879",
   "metadata": {},
   "outputs": [],
   "source": [
    "torch.__version__"
   ]
  },
  {
   "cell_type": "markdown",
   "id": "6ae47275-fd6e-4187-9ef8-d0141bbe0221",
   "metadata": {},
   "source": [
    "Just like in `NumPy` and `Pandas` dataframes, the type of all elements in a Pytorch \n",
    "tensor are **identical**.\n",
    "\n",
    "One must specify this type at creation time."
   ]
  },
  {
   "cell_type": "markdown",
   "id": "3393819b-e172-4439-a0bb-94bcf888c5f3",
   "metadata": {},
   "source": [
    "By default, a tensor has `dtype=tensor.float32`. "
   ]
  },
  {
   "cell_type": "markdown",
   "id": "a7104ac8",
   "metadata": {},
   "source": [
    "## Creating tensors"
   ]
  },
  {
   "cell_type": "code",
   "execution_count": null,
   "id": "65f7b74d-32dd-4093-87ca-9425718e94d3",
   "metadata": {},
   "outputs": [],
   "source": [
    "# Scalar (0 dimnesional tensor)\n",
    "scalar = torch.tensor(7)\n",
    "scalar"
   ]
  },
  {
   "cell_type": "code",
   "outputs": [],
   "source": [
    "# Dimension, shape, datatype, device\n",
    "scalar.dim(), scalar.shape, scalar.dtype, scalar.device"
   ],
   "metadata": {
    "collapsed": false
   },
   "id": "61c4bacabb25178a",
   "execution_count": null
  },
  {
   "cell_type": "code",
   "outputs": [],
   "source": [
    "# Number of dimensions\n",
    "scalar.ndim"
   ],
   "metadata": {
    "collapsed": false
   },
   "id": "82ed0b63ad2a4337",
   "execution_count": null
  },
  {
   "cell_type": "code",
   "outputs": [],
   "source": [
    "# Get the Python number within a tensor (only works with a one-element tensor; that is, a torch of dimension 0)\n",
    "scalar.item()"
   ],
   "metadata": {
    "collapsed": false
   },
   "id": "1d3f1a3e8c395295",
   "execution_count": null
  },
  {
   "cell_type": "code",
   "outputs": [],
   "source": [
    "# Apply `torch.item()` to non-scalar tensor\n",
    "vector = torch.tensor([2, 3, 5])\n",
    "try:\n",
    "    vector.item()\n",
    "except Exception as e:\n",
    "    print(e)"
   ],
   "metadata": {
    "collapsed": false
   },
   "id": "3d2b897d51f568d",
   "execution_count": null
  },
  {
   "cell_type": "code",
   "outputs": [],
   "source": [
    "# Vectors (1-dimensional tensors)\n",
    "vector = torch.tensor([3, 2, 5])\n",
    "vector"
   ],
   "metadata": {
    "collapsed": false
   },
   "id": "54351f609744507d",
   "execution_count": null
  },
  {
   "cell_type": "code",
   "outputs": [],
   "source": [
    "vector.ndim, vector.dim(), vector.shape, vector.size(), vector.dtype, vector.device"
   ],
   "metadata": {
    "collapsed": false
   },
   "id": "3bbfd89325b61ddc",
   "execution_count": null
  },
  {
   "cell_type": "code",
   "outputs": [],
   "source": [
    "# Matrices are also tensors (of **2** dimensions)\n",
    "Matrix = torch.tensor([[1, 2],\n",
    "                       [3, 4], \n",
    "                       [5, 6]])"
   ],
   "metadata": {
    "collapsed": false
   },
   "id": "d749e58123fa3793",
   "execution_count": null
  },
  {
   "cell_type": "code",
   "outputs": [],
   "source": [
    "Matrix.ndim, Matrix.dim(), Matrix.shape, Matrix.size(), Matrix.dtype, Matrix.device"
   ],
   "metadata": {
    "collapsed": false
   },
   "id": "64baa59c80cbadc6",
   "execution_count": null
  },
  {
   "cell_type": "code",
   "outputs": [],
   "source": [
    "# Although scalars, vectors, and matrices are all tensors, using `tensor` is typically reserved for 3 or more dimensions\n",
    "Tensor = torch.tensor([[[1.0, 2],\n",
    "                        [3, 4],\n",
    "                        [5, 6]],\n",
    "                       [[2, 3],\n",
    "                        [3, 4],\n",
    "                        [4, 5]],\n",
    "                       [[3, 4],\n",
    "                        [4, 5],\n",
    "                        [5, 6]],\n",
    "                       [[4, 5],\n",
    "                        [5, 6],\n",
    "                        [6, 7]],\n",
    "                       [[5, 6],\n",
    "                        [6, 7],\n",
    "                        [7, 8]]])"
   ],
   "metadata": {
    "collapsed": false
   },
   "id": "facadda5c7dc9e6a",
   "execution_count": null
  },
  {
   "cell_type": "code",
   "outputs": [],
   "source": [
    "Tensor.ndim, Tensor.dim(), Tensor.shape, Tensor.size(), Tensor.dtype, Tensor.device"
   ],
   "metadata": {
    "collapsed": false
   },
   "id": "55c8a5630f537012",
   "execution_count": null
  },
  {
   "cell_type": "markdown",
   "source": [
    "The dimensions go outer to inner. That is,\n",
    "- \"Inside\" the outermost bracket, we have 5 items (each a 3 x 2 **matrix**)\n",
    "- \"Inside\" **each** next outermost bracket (the middle bracket), we have 3 items (each a **vector** of size **2**)\n",
    "- **Each** innermost bracket has 2 **scalars**."
   ],
   "metadata": {
    "collapsed": false
   },
   "id": "7a2de5ff116d5956"
  },
  {
   "cell_type": "code",
   "outputs": [],
   "source": [],
   "metadata": {
    "collapsed": false
   },
   "id": "2ec9bda1757c5869",
   "execution_count": null
  }
 ],
 "metadata": {
  "kernelspec": {
   "display_name": "Python 3 (ipykernel)",
   "language": "python",
   "name": "python3"
  },
  "language_info": {
   "codemirror_mode": {
    "name": "ipython",
    "version": 3
   },
   "file_extension": ".py",
   "mimetype": "text/x-python",
   "name": "python",
   "nbconvert_exporter": "python",
   "pygments_lexer": "ipython3",
   "version": "3.12.2"
  }
 },
 "nbformat": 4,
 "nbformat_minor": 5
}
