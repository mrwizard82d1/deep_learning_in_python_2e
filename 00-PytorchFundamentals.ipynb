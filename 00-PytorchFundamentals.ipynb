{
 "cells": [
  {
   "cell_type": "markdown",
   "id": "e6955641-5f40-4548-9253-1a129877c111",
   "metadata": {},
   "source": [
    "# 00 - Pytorch Fundamentals"
   ]
  },
  {
   "cell_type": "markdown",
   "id": "6a7b442d-1ed6-4edd-8a84-61c2ced345da",
   "metadata": {},
   "source": [
    "Almost all notebooks will begin with importing `torch`"
   ]
  },
  {
   "cell_type": "code",
   "execution_count": 1,
   "id": "30bfbafd-2f37-4529-9bed-78be3c546deb",
   "metadata": {},
   "outputs": [
    {
     "name": "stdout",
     "output_type": "stream",
     "text": [
      "Intel MKL WARNING: Support of Intel(R) Streaming SIMD Extensions 4.2 (Intel(R) SSE4.2) enabled only processors has been deprecated. Intel oneAPI Math Kernel Library 2025.0 will require Intel(R) Advanced Vector Extensions (Intel(R) AVX) instructions.\n",
      "Intel MKL WARNING: Support of Intel(R) Streaming SIMD Extensions 4.2 (Intel(R) SSE4.2) enabled only processors has been deprecated. Intel oneAPI Math Kernel Library 2025.0 will require Intel(R) Advanced Vector Extensions (Intel(R) AVX) instructions.\n"
     ]
    }
   ],
   "source": [
    "import torch"
   ]
  },
  {
   "cell_type": "markdown",
   "id": "a4988544-82ae-4b4a-a9e6-e30b9f5c466a",
   "metadata": {},
   "source": [
    "To ensure we have an appropriate environment, let's print the `torch` version"
   ]
  },
  {
   "cell_type": "code",
   "execution_count": 2,
   "id": "c199d35e-52fc-4548-9699-83bbe68e7879",
   "metadata": {},
   "outputs": [
    {
     "data": {
      "text/plain": [
       "'2.2.2'"
      ]
     },
     "execution_count": 2,
     "metadata": {},
     "output_type": "execute_result"
    }
   ],
   "source": [
    "torch.__version__"
   ]
  },
  {
   "cell_type": "markdown",
   "id": "6ae47275-fd6e-4187-9ef8-d0141bbe0221",
   "metadata": {},
   "source": [
    "Just like in `NumPy` and `Pandas` dataframes, the type of all elements in a Pytorch \n",
    "tensor are **identical**.\n",
    "\n",
    "One must specify this type at creation time."
   ]
  },
  {
   "cell_type": "markdown",
   "id": "3393819b-e172-4439-a0bb-94bcf888c5f3",
   "metadata": {},
   "source": [
    "By default, a tensor has `dtype=tensor.float32`. "
   ]
  },
  {
   "cell_type": "markdown",
   "id": "a7104ac8",
   "metadata": {},
   "source": [
    "## Visiting `torch.Tensor` help page"
   ]
  },
  {
   "cell_type": "code",
   "execution_count": 3,
   "id": "0b7149bd-8f4b-484f-a433-6696be53d8e7",
   "metadata": {},
   "outputs": [],
   "source": [
    "a_default_tensor = torch.Tensor()"
   ]
  },
  {
   "cell_type": "code",
   "execution_count": 4,
   "id": "e6c45d89-d1f5-47f9-969e-83893b3ac7b9",
   "metadata": {},
   "outputs": [
    {
     "data": {
      "text/plain": [
       "torch.float32"
      ]
     },
     "execution_count": 4,
     "metadata": {},
     "output_type": "execute_result"
    }
   ],
   "source": [
    "a_default_tensor.dtype"
   ]
  },
  {
   "cell_type": "code",
   "execution_count": null,
   "id": "65f7b74d-32dd-4093-87ca-9425718e94d3",
   "metadata": {},
   "outputs": [],
   "source": []
  }
 ],
 "metadata": {
  "kernelspec": {
   "display_name": "Python 3 (ipykernel)",
   "language": "python",
   "name": "python3"
  },
  "language_info": {
   "codemirror_mode": {
    "name": "ipython",
    "version": 3
   },
   "file_extension": ".py",
   "mimetype": "text/x-python",
   "name": "python",
   "nbconvert_exporter": "python",
   "pygments_lexer": "ipython3",
   "version": "3.12.2"
  }
 },
 "nbformat": 4,
 "nbformat_minor": 5
}
