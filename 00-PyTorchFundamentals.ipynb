{
 "cells": [
  {
   "cell_type": "markdown",
   "id": "e6955641-5f40-4548-9253-1a129877c111",
   "metadata": {},
   "source": [
    "# 00 - Pytorch Fundamentals"
   ]
  },
  {
   "cell_type": "markdown",
   "id": "6a7b442d-1ed6-4edd-8a84-61c2ced345da",
   "metadata": {},
   "source": [
    "Almost all notebooks will begin with importing `torch`"
   ]
  },
  {
   "cell_type": "code",
   "id": "30bfbafd-2f37-4529-9bed-78be3c546deb",
   "metadata": {},
   "source": [
    "import torch"
   ],
   "outputs": [],
   "execution_count": null
  },
  {
   "cell_type": "markdown",
   "id": "a4988544-82ae-4b4a-a9e6-e30b9f5c466a",
   "metadata": {},
   "source": [
    "To ensure we have an appropriate environment, let's print the `torch` version"
   ]
  },
  {
   "cell_type": "code",
   "id": "c199d35e-52fc-4548-9699-83bbe68e7879",
   "metadata": {},
   "source": [
    "torch.__version__"
   ],
   "outputs": [],
   "execution_count": null
  },
  {
   "cell_type": "markdown",
   "id": "6ae47275-fd6e-4187-9ef8-d0141bbe0221",
   "metadata": {},
   "source": [
    "Just like in `NumPy` and `Pandas` dataframes, the type of all elements in a Pytorch \n",
    "tensor are **identical**.\n",
    "\n",
    "One must specify this type at creation time."
   ]
  },
  {
   "cell_type": "markdown",
   "id": "3393819b-e172-4439-a0bb-94bcf888c5f3",
   "metadata": {},
   "source": [
    "By default, a tensor has `dtype=tensor.float32`. "
   ]
  },
  {
   "cell_type": "markdown",
   "id": "a7104ac8",
   "metadata": {},
   "source": [
    "## Creating tensors"
   ]
  },
  {
   "cell_type": "code",
   "id": "65f7b74d-32dd-4093-87ca-9425718e94d3",
   "metadata": {},
   "source": [
    "# Scalar (0 dimnesional tensor)\n",
    "scalar = torch.tensor(7)\n",
    "scalar"
   ],
   "outputs": [],
   "execution_count": null
  },
  {
   "cell_type": "code",
   "source": [
    "# Dimension, shape, datatype, device\n",
    "scalar.dim(), scalar.shape, scalar.dtype, scalar.device"
   ],
   "metadata": {
    "collapsed": false
   },
   "id": "61c4bacabb25178a",
   "outputs": [],
   "execution_count": null
  },
  {
   "cell_type": "code",
   "source": [
    "# Number of dimensions\n",
    "scalar.ndim"
   ],
   "metadata": {
    "collapsed": false
   },
   "id": "82ed0b63ad2a4337",
   "outputs": [],
   "execution_count": null
  },
  {
   "cell_type": "code",
   "source": [
    "# Get the Python number within a tensor (only works with a one-element tensor; that is, a torch of dimension 0)\n",
    "scalar.item()"
   ],
   "metadata": {
    "collapsed": false
   },
   "id": "1d3f1a3e8c395295",
   "outputs": [],
   "execution_count": null
  },
  {
   "cell_type": "code",
   "source": [
    "# Apply `torch.item()` to non-scalar tensor\n",
    "vector = torch.tensor([2, 3, 5])\n",
    "try:\n",
    "    vector.item()\n",
    "except Exception as e:\n",
    "    print(e)"
   ],
   "metadata": {
    "collapsed": false
   },
   "id": "3d2b897d51f568d",
   "outputs": [],
   "execution_count": null
  },
  {
   "cell_type": "code",
   "source": [
    "# Vectors (1-dimensional tensors)\n",
    "vector = torch.tensor([3, 2, 5])\n",
    "vector"
   ],
   "metadata": {
    "collapsed": false
   },
   "id": "54351f609744507d",
   "outputs": [],
   "execution_count": null
  },
  {
   "cell_type": "code",
   "source": [
    "vector.ndim, vector.dim(), vector.shape, vector.size(), vector.dtype, vector.device"
   ],
   "metadata": {
    "collapsed": false
   },
   "id": "3bbfd89325b61ddc",
   "outputs": [],
   "execution_count": null
  },
  {
   "cell_type": "code",
   "source": [
    "# Matrices are also tensors (of **2** dimensions)\n",
    "Matrix = torch.tensor([[1, 2],\n",
    "                       [3, 4], \n",
    "                       [5, 6]])"
   ],
   "metadata": {
    "collapsed": false
   },
   "id": "d749e58123fa3793",
   "outputs": [],
   "execution_count": null
  },
  {
   "cell_type": "code",
   "source": [
    "Matrix.ndim, Matrix.dim(), Matrix.shape, Matrix.size(), Matrix.dtype, Matrix.device"
   ],
   "metadata": {
    "collapsed": false
   },
   "id": "64baa59c80cbadc6",
   "outputs": [],
   "execution_count": null
  },
  {
   "cell_type": "code",
   "source": [
    "# Although scalars, vectors, and matrices are all tensors, using `tensor` is typically reserved for 3 or more dimensions\n",
    "Tensor = torch.tensor([[[1.0, 2],\n",
    "                        [3, 4],\n",
    "                        [5, 6]],\n",
    "                       [[2, 3],\n",
    "                        [3, 4],\n",
    "                        [4, 5]],\n",
    "                       [[3, 4],\n",
    "                        [4, 5],\n",
    "                        [5, 6]],\n",
    "                       [[4, 5],\n",
    "                        [5, 6],\n",
    "                        [6, 7]],\n",
    "                       [[5, 6],\n",
    "                        [6, 7],\n",
    "                        [7, 8]]])"
   ],
   "metadata": {
    "collapsed": false
   },
   "id": "facadda5c7dc9e6a",
   "outputs": [],
   "execution_count": null
  },
  {
   "cell_type": "code",
   "source": [
    "Tensor.ndim, Tensor.dim(), Tensor.shape, Tensor.size(), Tensor.dtype, Tensor.device"
   ],
   "metadata": {
    "collapsed": false
   },
   "id": "55c8a5630f537012",
   "outputs": [],
   "execution_count": null
  },
  {
   "cell_type": "markdown",
   "source": [
    "The dimensions go outer to inner. That is,\n",
    "- \"Inside\" the outermost bracket, we have 5 items (each a 3 x 2 **matrix**)\n",
    "- \"Inside\" **each** next outermost bracket (the middle bracket), we have 3 items (each a **vector** of size **2**)\n",
    "- **Each** innermost bracket has 2 **scalars**.\n",
    "\n",
    "Because the first element of the first row is a floating point value, this tensor is of `dtype=tensor.float32` (instead of `dtype=tensor.long`)."
   ],
   "metadata": {
    "collapsed": false
   },
   "id": "7a2de5ff116d5956"
  },
  {
   "metadata": {},
   "cell_type": "markdown",
   "source": "### Random tensors",
   "id": "2779f7934de0e2df"
  },
  {
   "metadata": {},
   "cell_type": "markdown",
   "source": [
    "As a data scientist, one does not typically construct tensors by hand. Instead, one employs an iterative method:\n",
    "\n",
    "- Fill tensors with random numbers\n",
    "- Use one piece of data to update random numbers\n",
    "- Repeat using different data to update to random numbers\n",
    "- Until good enough (or you run out of data)"
   ],
   "id": "63e8f5bbe521a1d"
  },
  {
   "cell_type": "code",
   "source": [
    "# Create a 3x4 tensor filled with random values\n",
    "random_tensor = torch.rand(size=(3, 4))\n",
    "random_tensor, random_tensor.dtype"
   ],
   "metadata": {
    "collapsed": false
   },
   "id": "2ec9bda1757c5869",
   "outputs": [],
   "execution_count": null
  },
  {
   "metadata": {},
   "cell_type": "code",
   "source": [
    "# Suppose we are dealing with RGB images of size 224x224 pixels.\n",
    "# We might model this data as a tensor of size 224x224x3\n",
    "random_image_size_tensor = torch.rand(size=(224, 224, 3))\n",
    "random_image_size_tensor.shape, random_image_size_tensor.dtype"
   ],
   "id": "5f70f3659a99bf6f",
   "outputs": [],
   "execution_count": null
  },
  {
   "metadata": {},
   "cell_type": "markdown",
   "source": "### Zeros and ones",
   "id": "86101a03fb9938f2"
  },
  {
   "metadata": {},
   "cell_type": "markdown",
   "source": [
    "Sometimes, one wants to initialize a tensor not with random values, but with either zeros or ones. (One is perhaps using the tensor as a mask for other values). The `torch` package provides functions to create such tensors.\n",
    "\n",
    "Similar to a random tensor, one specifies the size at creation time."
   ],
   "id": "2e976ea98ae8f638"
  },
  {
   "metadata": {},
   "cell_type": "code",
   "source": [
    "# Create a tensor of a specified size filled with zeros\n",
    "zeros = torch.zeros(size=(3, 4))\n",
    "zeros, zeros.dtype, zeros.shape"
   ],
   "id": "c5ff7bcbb9bdda7e",
   "outputs": [],
   "execution_count": null
  },
  {
   "metadata": {},
   "cell_type": "code",
   "source": [
    "# Similarly, one can create a tensor of a specified size filled with ones.\n",
    "ones = torch.ones(size=(3, 4))\n",
    "ones, ones.dtype, ones.shape"
   ],
   "id": "9fc51cdeb80c2e52",
   "outputs": [],
   "execution_count": null
  },
  {
   "metadata": {},
   "cell_type": "markdown",
   "source": "### Creating a range and creating one tensor like another",
   "id": "8b44b71f90bce22b"
  },
  {
   "metadata": {},
   "cell_type": "markdown",
   "source": "One uses `torch.arange()` to initialize a tensor using a sequence of values [`start`, `stop`) by `step`. Previously, one used `torch.range()` but this function has been deprecated and may be removed.",
   "id": "7d53b611c5e6667b"
  },
  {
   "metadata": {},
   "cell_type": "code",
   "source": [
    "# The function `torch.range()` is still available but is deprecated.\n",
    "zero_to_ten_deprecated = torch.range(0, 10)\n",
    "zero_to_ten_deprecated"
   ],
   "id": "818017bbe5b49a62",
   "outputs": [],
   "execution_count": null
  },
  {
   "metadata": {},
   "cell_type": "code",
   "source": [
    "# The preferred function to create fill a tensor with a range is `tensor.arange(start, stop, [step])`\n",
    "zero_to_ten = torch.arange(0, 10)\n",
    "zero_to_ten"
   ],
   "id": "76e9d55dec6d0c7d",
   "outputs": [],
   "execution_count": null
  },
  {
   "metadata": {},
   "cell_type": "code",
   "source": [
    "zero_to_ten_by_threes = torch.arange(0, 10, 3)\n",
    "zero_to_ten_by_threes"
   ],
   "id": "60c54cb706e25f98",
   "outputs": [],
   "execution_count": null
  },
  {
   "metadata": {},
   "cell_type": "code",
   "source": [
    "# One can create one tensor like another by using functions like `tensor.zeros_like()`\n",
    "ten_zeros = torch.zeros_like(zero_to_ten)\n",
    "ten_zeros"
   ],
   "id": "a98ca3c8c29da72f",
   "outputs": [],
   "execution_count": null
  },
  {
   "metadata": {},
   "cell_type": "code",
   "source": [
    "ten_ones = torch.ones_like(zero_to_ten)\n",
    "ten_ones"
   ],
   "id": "246c986bf8383ba7",
   "outputs": [],
   "execution_count": null
  },
  {
   "metadata": {},
   "cell_type": "code",
   "source": [
    "like_zero_to_ten = torch.randint_like(zero_to_ten, 10)\n",
    "like_zero_to_ten"
   ],
   "id": "6a0379a0d94bc820",
   "outputs": [],
   "execution_count": null
  },
  {
   "metadata": {},
   "cell_type": "code",
   "source": "",
   "id": "2972446579f183a2",
   "outputs": [],
   "execution_count": null
  }
 ],
 "metadata": {
  "kernelspec": {
   "display_name": "Python 3 (ipykernel)",
   "language": "python",
   "name": "python3"
  },
  "language_info": {
   "codemirror_mode": {
    "name": "ipython",
    "version": 3
   },
   "file_extension": ".py",
   "mimetype": "text/x-python",
   "name": "python",
   "nbconvert_exporter": "python",
   "pygments_lexer": "ipython3",
   "version": "3.12.2"
  }
 },
 "nbformat": 4,
 "nbformat_minor": 5
}
